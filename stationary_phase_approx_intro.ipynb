{
 "cells": [
  {
   "cell_type": "markdown",
   "id": "0de80de8",
   "metadata": {},
   "source": [
    "# **Illustration of the stationary phase approximation of an integral.**\n",
    "<p style=\"text-align: justify;font-size:15px;width: 90%\">\n",
    "In this notebook, we investigate the use of the stationary phase approximation applied to the evaluation of integrals of the form $\\int \\limits_{x_i}^{x_f} dx e^{i\\alpha f(x)}$. To demonstrate its usefulness, we consider both the brute-force numerical evaluation of this integral and see that when $\\alpha$ is increased, the number of discrete grid points required for accurate evaluation in this way becomes unfavourably large. On the other hand, we observe that with increasing $\\alpha$ the stationary phase approximation becomes an increasingly better estimation of the integral. This, we see, is due to the more pronounced cancellations of the contributions to the integral from the highly oscillatory parts of the integrand lying outwith the immediate vicinity of the point where the integrand's phase is stationary.\n",
    "    \n",
    " At the heart of the stationary phase approximation is the realization that only contributions to the integral coming from the region near that in which the phase of the integrand is stationary shall contribute non-negligibly. As illustrated by the plots within this notebook, the parts of the integral outwith this region undergo strong cancellations due to the highly oscillatory integrand. As a consequence, we can recover the leading asymptotic behaviour of the integral by expanding the argument of the exponential, $f(x)$ in our integrand to second order about its stationary point. Supposing that this stationary point is located at $x=c$ so that $f'(c)=0$ then we find\n",
    "$$\\int \\limits_{x_i}^{x_f} dx e^{i \\alpha f(x)}$$\n",
    "$$ \\simeq \\int \\limits_{x_i}^{x_f} dx e^{i \\alpha\\{f(c)+\\frac{1}{2}f''(c)(x-c)^2 \\}}$$.\n",
    "\n",
    "A further consequence of the cancellations due to the large oscillations far from the stationary point is that we have a good justification for extending the limits of our integral to $\\pm \\infty$. There shall be negligible error introduced by doing this due to the aforementioned strong oscillations. Hence, we arrive at the following:\n",
    "$$\\int \\limits_{-\\infty}^{\\infty} e^{i \\alpha f(c)}  dx e^{\\frac{\\alpha}{2}f''(c)(x-c)^2 }$$. \n",
    "\n",
    "Now, this integral looks very much like one which we know how to solve - namely, a Gaussian integral. In fact, if we analytically continue this integral to the complex plane and deform our contour so that we pass through the stationary point at a polar angle corresponding to the path of steepest descent, we obtain the generalized Gaussian integral result:\n",
    "$$  e^{i \\alpha f(c)}\\sqrt{\\frac{\\pi}{2i\\alpha|f''(c)|}}$$. \n",
    "</p>"
   ]
  }
 ],
 "metadata": {
  "kernelspec": {
   "display_name": "Python 3 (ipykernel)",
   "language": "python",
   "name": "python3"
  },
  "language_info": {
   "codemirror_mode": {
    "name": "ipython",
    "version": 3
   },
   "file_extension": ".py",
   "mimetype": "text/x-python",
   "name": "python",
   "nbconvert_exporter": "python",
   "pygments_lexer": "ipython3",
   "version": "3.8.10"
  }
 },
 "nbformat": 4,
 "nbformat_minor": 5
}
