{
 "cells": [
  {
   "cell_type": "markdown",
   "id": "6132b69b",
   "metadata": {},
   "source": [
    "# **Illustration of the use of the stationary phase approximation.**\n",
    "\n",
    "<p style=\"text-align: justify;font-size:15px;width: 90%\">\n",
    "In this notebook, we investigate the use of the stationary phase approximation applied to the evaluation of integrals of the form $\\int \\limits_{x_i}^{x_f} dx e^{i\\alpha f(x)}$. To demonstrate its usefulness, we consider both the brute-force numerical evaluation of this integral and see that when $\\alpha$ is increased, the number of discrete grid points required for accurate evaluation in this way becomes unfavourably large. On the other hand, we observe that with increasing $\\alpha$ the stationary phase approximation becomes an increasingly better estimation of the integral. This, we see, is due to the more pronounced cancellations of the contributions to the integral from the highly oscillatory parts of the integrand lying outwith the immediate vicinity of the point where the integrand's phase is stationary.\n",
    "    \n",
    " At the heart of the stationary phase approximation is the realization that only contributions to the integral coming from the region near that in which the phase of the integrand is stationary shall contribute non-negligibly. As illustrated by the plots within this notebook, the parts of the integral outwith this region undergo strong cancellations due to the highly oscillatory integrand. As a consequence, we can recover the leading asymptotic behaviour of the integral by expanding the argument of the exponential, $f(x)$ in our integrand to second order about its stationary point. Supposing that this stationary point is located at $x=c$ so that $f'(c)=0$ then we find\n",
    "$$\\int \\limits_{x_i}^{x_f} dx e^{i \\alpha f(x)}$$\n",
    "$$ \\simeq \\int \\limits_{x_i}^{x_f} dx e^{i \\alpha\\{f(c)+\\frac{1}{2}f''(c)(x-c)^2 \\}}$$.\n",
    "\n",
    "A further consequence of the cancellations due to the large oscillations far from the stationary point is that we have a good justification for extending the limits of our integral to $\\pm \\infty$. There shall be negligible error introduced by doing this due to the aforementioned strong oscillations. Hence, we arrive at the following:\n",
    "$$\\int \\limits_{-\\infty}^{\\infty} e^{i \\alpha f(c)}  dx e^{\\frac{\\alpha}{2}f''(c)(x-c)^2 }$$. \n",
    "\n",
    "Now, this integral looks very much like one which we know how to solve - namely, a Gaussian integral. In fact, if we analytically continue this integral to the complex plane and deform our contour so that we pass through the stationary point at a polar angle corresponding to the path of steepest descent, we obtain the generalized Gaussian integral result:\n",
    "$$  e^{i \\alpha f(c)}\\sqrt{\\frac{\\pi}{2i\\alpha|f''(c)|}}$$. \n",
    "</p>"
   ]
  },
  {
   "cell_type": "markdown",
   "id": "549bf9c5",
   "metadata": {},
   "source": [
    "# ** Difficulty of converging a highly oscillatory integral with naive numerical integration.**\n",
    "<p style=\"text-align: justify;font-size:15px;width: 90%\">\n",
    "\n",
    "Let us first look at how easy (or rather how difficult) it is to evaluate, using standard brute force numerical integraion, integrals with such highly oscillatory integrands. Below are plots of the integrand $F(x)=e^{i\\alpha(x^2-a)}$ along with plots of the numerical estimate of $\\int  \\limits_{-2}^{2}dx e^{i\\alpha(x^2-a)}$ using a very basic numerical quadrature approach wherein the integral is approximated by evaluating the sum $\\sum_n F(n dx) \\cdot dx$ where $dx=\\frac{x_f-x_i}{N_{\\text{grid}}}$ with $x_f=2$,$x_i=-2$ and $N_{\\text{grid}}$ is the number of gridpoints used in the discretization of the integration range. \n",
    "    </p>"
   ]
  },
  {
   "cell_type": "code",
   "execution_count": 3,
   "id": "4590215a",
   "metadata": {},
   "outputs": [
    {
     "data": {
      "application/vnd.jupyter.widget-view+json": {
       "model_id": "c5f590fa9aef434896fbd9314b2c5d67",
       "version_major": 2,
       "version_minor": 0
      },
      "text/plain": [
       "Canvas(toolbar=Toolbar(toolitems=[('Home', 'Reset original view', 'home', 'home'), ('Back', 'Back to previous …"
      ]
     },
     "metadata": {},
     "output_type": "display_data"
    },
    {
     "data": {
      "application/vnd.jupyter.widget-view+json": {
       "model_id": "b68ed7c2d1e447029fe35c7aa298dd0b",
       "version_major": 2,
       "version_minor": 0
      },
      "text/plain": [
       "VBox(children=(interactive(children=(FloatSlider(value=2.0, continuous_update=False, description='integral_lim…"
      ]
     },
     "metadata": {},
     "output_type": "display_data"
    }
   ],
   "source": [
    "%matplotlib widget\n",
    "\n",
    "from ipywidgets import interactive,Dropdown,Layout,VBox,HBox,FloatSlider\n",
    "import matplotlib.pyplot as plt\n",
    "import numpy as np\n",
    "\n",
    "x=np.linspace(-2,2,2000)\n",
    "\n",
    "def f1_x(x,alpha,a):\n",
    "    return np.exp(1.j*alpha*(x**2-a))\n",
    "\n",
    "def int_f1(x,alpha,a,Ngrid):\n",
    "\n",
    "    dx=(x[-1]-x[0])/Ngrid\n",
    "    I=0.+0.j\n",
    "    for n in range(Ngrid):\n",
    "        I += f1_x(x[0]+n*dx,alpha,a)*dx\n",
    "\n",
    "    return I\n",
    "    \n",
    "def f1_int_x_interactive(integral_lims=2.0,alpha=10.0,a=0.0, Ngrid=1000,Real_or_Imaginary_part='real'):\n",
    "    \n",
    "    axs1.clear()\n",
    "    x = np.linspace(-2, 2, num=2000)\n",
    "\n",
    "    f = f1_x(x,alpha,a)\n",
    "    if(Real_or_Imaginary_part=='real'):\n",
    "        re_f=np.real(f)\n",
    "        axs1.plot(x, re_f,label=\"Re(f(x))\" )\n",
    "        axs1.fill_between(x, re_f, 0,where=re_f>0.,facecolor='yellow', alpha=0.5)\n",
    "        axs1.fill_between(x, re_f, 0,where=re_f<0.,facecolor='green', alpha=0.5)\n",
    "    else:\n",
    "        im_f = np.imag(f)\n",
    "        axs1.plot(x, np.imag(f),label=\"Im(f(x))\",color='red')\n",
    "        axs1.fill_between(x, im_f, 0,where=im_f>0.,facecolor='yellow', alpha=0.5)\n",
    "        axs1.fill_between(x, im_f, 0,where=im_f<0.,facecolor='green', alpha=0.5)\n",
    "\n",
    "    axs2.clear()\n",
    "    axs2.set_xlim(0,Ngrid)\n",
    "\n",
    "    If_lst1=[]\n",
    "    grid_list=np.arange(1,Ngrid)\n",
    "    for n_points in grid_list:\n",
    "        If_lst1.append(int_f1(x, alpha,a, n_points))  \n",
    "    If_lst1=np.array(If_lst1)\n",
    "\n",
    "    if(Real_or_Imaginary_part=='real'):\n",
    "        axs2.plot(grid_list, np.real(If_lst1),label=r\"Re($\\int _{L}^{L} f(x)$)\" )\n",
    "\n",
    "    else:\n",
    "\n",
    "        axs2.plot(grid_list, np.imag(If_lst1),label=r\"Im($\\int_{L}^{L} f(x)$)\",color='red' )\n",
    "\n",
    "    axs1.set_xlabel('x')\n",
    "    axs2.set_xlabel('Ngrid')\n",
    "\n",
    "    axs1.set_title(r\"Plot of integrand $\\exp(i \\alpha (x^2-a))$.\")        \n",
    "    axs2.set_title(\"Plot of numerical integration vs number of grid points.\")\n",
    "    \n",
    "    plt.legend()\n",
    "    plt.show()\n",
    "        \n",
    "    \n",
    "fig1=plt.figure()    \n",
    "plt.subplots_adjust(hspace = .5)   \n",
    "axs1=fig1.add_subplot(211)\n",
    "line1, = axs1.plot([],[])\n",
    "axs2=fig1.add_subplot(212)\n",
    "\n",
    "line2, = axs2.plot([],[])\n",
    "\n",
    "interactive_plot1 = interactive(f1_int_x_interactive,\\\n",
    "                                integral_lims=FloatSlider(value=2.0,min=1.0,max=10.0,step=0.1,continuous_update=False),\\\n",
    "                                Ngrid=1000, \\\n",
    "                                alpha=FloatSlider(value=10.0, min=1.0,max=1000.0,step=10.,continuous_update=False),\\\n",
    "                                a=FloatSlider(value=0.0, min=-1.0,max=1.0,step=.1,continuous_update=False),\\\n",
    "                                Real_or_Imaginary_part=['real', 'imaginary'])\n",
    "\n",
    "# interactive_plot\n",
    "box1 = VBox( [interactive_plot1], layout=Layout(width='400px'))\n",
    "box1"
   ]
  },
  {
   "cell_type": "markdown",
   "id": "01d9a0ce",
   "metadata": {},
   "source": [
    "# ** Convergence of the stationary phase approximation to the exact result.**\n",
    "<p style=\"text-align: justify;font-size:15px;width: 90%\">\n",
    "We now look at how good a job the stationary phase approximation does of estimating the true value of the integral depending on how large $\\alpha$ (the strength of the oscillations) is. Furthermore, we see how much error is introduced by extending the integration limits to $\\pm \\infty$ from some finite interval $(x_i,x_f)$. For this example we consider the integrand $F(x)=e^{i\\alpha( \\cdot e ^{x^2}-1)}$ (the reason for this seemingly convoluted choice of integrand is simply to avoid some unnecessary complications in the visualization).\n",
    "    </p>"
   ]
  },
  {
   "cell_type": "code",
   "execution_count": 9,
   "id": "364a5366",
   "metadata": {},
   "outputs": [
    {
     "data": {
      "application/vnd.jupyter.widget-view+json": {
       "model_id": "f493aebd6c8e4b7e96b01ca715c719ad",
       "version_major": 2,
       "version_minor": 0
      },
      "text/plain": [
       "Canvas(toolbar=Toolbar(toolitems=[('Home', 'Reset original view', 'home', 'home'), ('Back', 'Back to previous …"
      ]
     },
     "metadata": {},
     "output_type": "display_data"
    },
    {
     "data": {
      "application/vnd.jupyter.widget-view+json": {
       "model_id": "369d39a3a18b4ceea1cbda5ee385f9b1",
       "version_major": 2,
       "version_minor": 0
      },
      "text/plain": [
       "VBox(children=(interactive(children=(FloatSlider(value=2.0, description='integral_lims', max=10.0, min=1.0), F…"
      ]
     },
     "metadata": {},
     "output_type": "display_data"
    }
   ],
   "source": [
    "\"\"\"\n",
    "Trying out a function f(x) which should have 1 SP and have a 2nd order Taylor expansion which is different from \n",
    "f(x) itself: exp^(i*alpha*exp^(-x^2))\n",
    "\"\"\"\n",
    "\n",
    "from ipywidgets import interactive,Dropdown,Layout,VBox,HBox\n",
    "import matplotlib.pyplot as plt\n",
    "import numpy as np\n",
    "\n",
    "def f_x(x,alpha):\n",
    "    return np.exp(1.j*alpha*(np.exp(1.*x**2)-1))\n",
    "    \n",
    "def int_f(x,alpha,Ngrid):\n",
    "    \n",
    "    If_lst=[]\n",
    "    dx=(x[-1]-x[0])/Ngrid\n",
    "    I=0.+0.j\n",
    "    for n in range(int(Ngrid/2)):\n",
    "        I += 2.*f_x(n*dx,alpha)*dx\n",
    "        If_lst.append(I)\n",
    "        \n",
    "    return If_lst\n",
    "    \n",
    "def f_int_x_interactive(integral_lims=2.0,alpha=10.0, Ngrid=1000,Real_or_Imaginary_part='real'):\n",
    "    \n",
    "    ax1.clear()\n",
    "    x = np.linspace(-2, 2, num=2000)\n",
    "\n",
    "    f = np.exp(1.j*alpha*np.exp(1.*x**2))\n",
    "    f_sp = np.exp(1.j*alpha*(x**2))\n",
    "    if(Real_or_Imaginary_part=='real'):\n",
    "\n",
    "        ax1.plot(x, np.real(f),label=\"Re\" )\n",
    "        ax1.plot(x, np.real(f_sp),label=\"Re(sp approx)\" )\n",
    "\n",
    "    else:\n",
    "\n",
    "        ax1.plot(x, np.imag(f),label=\"Im\", color=\"red\")\n",
    "        ax1.plot(x, np.imag(f_sp),label=\"Im(sp approx)\", color=\"green\")\n",
    "\n",
    "    ax2.clear()\n",
    "    ax2.set_xlim(0,integral_lims)\n",
    "    x = np.linspace(0, integral_lims, num=int(Ngrid/2))    \n",
    "\n",
    "    If_lst=np.array(int_f(x, alpha, Ngrid)) \n",
    "\n",
    "    If_sp = np.sqrt(np.pi/alpha)*np.exp(1.j*np.pi/4.)*np.ones(len(x))\n",
    "    if(Real_or_Imaginary_part=='real'):\n",
    "        ax2.plot(x, np.real(If_lst),label=r\"Re($\\int _{L}^{L} f(x)$)\" )\n",
    "        ax2.plot(x, np.real(If_sp),label=\"Re(SP approx)\" )\n",
    "\n",
    "    else:\n",
    "\n",
    "        ax2.plot(x, np.imag(If_lst),label=r\"Im($\\int_{L}^{L} f(x)$)\", color=\"red\" )\n",
    "        ax2.plot(x, np.imag(If_sp),label=\"Im(SP approx)\", color=\"green\")\n",
    "\n",
    "    ax1.set_xlabel('x')\n",
    "    ax2.set_xlabel('L')\n",
    "\n",
    "    ax1.set_title(r\"Plot of integrand $\\exp(i \\alpha (e^{-x^2}-1))$.\")        \n",
    "    ax2.set_title(\"Plot of numerical integration and stationary phase approx\")\n",
    "    \n",
    "    plt.legend()\n",
    "    plt.show()\n",
    "          \n",
    "fig=plt.figure()    \n",
    "plt.subplots_adjust(hspace = .5)   \n",
    "ax1=fig.add_subplot(211)\n",
    "line1, = ax1.plot([],[])\n",
    "ax2=fig.add_subplot(212)\n",
    "line2, = ax2.plot([],[])\n",
    "interactive_plot = interactive(f_int_x_interactive,integral_lims=(1.0,10.0),Ngrid=1000, alpha=(0.0,100,1.), Real_or_Imaginary_part=['real', 'imaginary'])\n",
    "\n",
    "# interactive_plot\n",
    "box1 = VBox( [interactive_plot], layout=Layout(width='400px'))\n",
    "box1"
   ]
  },
  {
   "cell_type": "markdown",
   "id": "e076feb5",
   "metadata": {},
   "source": [
    "<!-- # ** Convergence of the stationary phase approximation to the exact, numerically integrated result with increasing $\\alpha$.  **\n",
    "\n",
    "<p style=\"text-align: justify;font-size:15px;width: 90%\">\n",
    "    We now look at how the error introduced by the stationary phase approximation becomes less and less significant as we increase the value $\\alpha$ which controls the strength of the oscillations in the integrand.\n",
    "</p> -->"
   ]
  }
 ],
 "metadata": {
  "kernelspec": {
   "display_name": "Python 3",
   "language": "python",
   "name": "python3"
  },
  "language_info": {
   "codemirror_mode": {
    "name": "ipython",
    "version": 3
   },
   "file_extension": ".py",
   "mimetype": "text/x-python",
   "name": "python",
   "nbconvert_exporter": "python",
   "pygments_lexer": "ipython3",
   "version": "3.8.10"
  }
 },
 "nbformat": 4,
 "nbformat_minor": 5
}
