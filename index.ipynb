{
 "cells": [
  {
   "cell_type": "markdown",
   "id": "589ad365-0cb5-4b16-9f2b-975567f3139b",
   "metadata": {},
   "source": [
    "# **Illustration of the stationary phase approximation to an integral.**\n",
    "\n",
    "<hr style=\"height:1px;border:none;color:#cccccc;background-color:#cccccc;\" />\n",
    "\n",
    "<ol style=\"font-size:18px\">\n",
    "    <li><a href=\"./stationary_phase_approx.ipynb\">Illustration of the stationary phase approximation to an integral (visualization).</a></li>\n",
    "    <li><a href=\"./stationary_phase_approx_intro.ipynb\">Background theory for the stationary phase approximation.</a></li>\n",
    "</ol>"
   ]
  }
 ],
 "metadata": {
  "kernelspec": {
   "display_name": "Python 3 (ipykernel)",
   "language": "python",
   "name": "python3"
  },
  "language_info": {
   "codemirror_mode": {
    "name": "ipython",
    "version": 3
   },
   "file_extension": ".py",
   "mimetype": "text/x-python",
   "name": "python",
   "nbconvert_exporter": "python",
   "pygments_lexer": "ipython3",
   "version": "3.8.8"
  }
 },
 "nbformat": 4,
 "nbformat_minor": 5
}
